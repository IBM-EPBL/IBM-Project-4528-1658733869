{
 "cells": [
  {
   "cell_type": "code",
   "execution_count": 1,
   "id": "93d4b059",
   "metadata": {},
   "outputs": [],
   "source": [
    "import numpy as np\n",
    "import pandas as pd"
   ]
  },
  {
   "cell_type": "code",
   "execution_count": 2,
   "id": "b880cd59",
   "metadata": {},
   "outputs": [],
   "source": [
    "from tensorflow.keras.models import Sequential\n",
    "from tensorflow.keras.layers import Dense\n",
    "from tensorflow.keras.layers import Convolution2D\n",
    "from tensorflow.keras.layers import MaxPooling2D\n",
    "from tensorflow.keras.layers import Flatten"
   ]
  },
  {
   "cell_type": "code",
   "execution_count": 3,
   "id": "eb0bef2c",
   "metadata": {},
   "outputs": [],
   "source": [
    "from tensorflow.keras.preprocessing.image import ImageDataGenerator"
   ]
  },
  {
   "cell_type": "code",
   "execution_count": 4,
   "id": "963060f0",
   "metadata": {},
   "outputs": [],
   "source": [
    "train_data=ImageDataGenerator(rescale=1./255,shear_range=0.2,zoom_range=0.2,horizontal_flip=True,vertical_flip=True)\n",
    "test_data=ImageDataGenerator(rescale=1./255)"
   ]
  },
  {
   "cell_type": "code",
   "execution_count": 5,
   "id": "64a7b242",
   "metadata": {},
   "outputs": [],
   "source": [
    "import zipfile as zf\n",
    "\n",
    "files = zf.ZipFile(r'C:\\project\\Flowers-Dataset.zip')\n",
    "files.extractall()\n",
    "files.close()"
   ]
  },
  {
   "cell_type": "code",
   "execution_count": 6,
   "id": "07b1bb42",
   "metadata": {},
   "outputs": [
    {
     "name": "stdout",
     "output_type": "stream",
     "text": [
      "C:\\project\n"
     ]
    }
   ],
   "source": [
    "cd C:\\project"
   ]
  },
  {
   "cell_type": "code",
   "execution_count": 7,
   "id": "8872c6ad",
   "metadata": {},
   "outputs": [
    {
     "name": "stdout",
     "output_type": "stream",
     "text": [
      " Volume in drive C is Don't use me\n",
      " Volume Serial Number is 2E56-C876\n",
      "\n",
      " Directory of C:\\project\n",
      "\n",
      "02-11-2022  12:18    <DIR>          .\n",
      "02-11-2022  11:19       235,663,188 Flowers-Dataset.zip\n",
      "               1 File(s)    235,663,188 bytes\n",
      "               1 Dir(s)  108,081,295,360 bytes free\n"
     ]
    }
   ],
   "source": [
    "ls"
   ]
  },
  {
   "cell_type": "code",
   "execution_count": 8,
   "id": "7943f182",
   "metadata": {},
   "outputs": [],
   "source": [
    "import glob\n",
    "import zipfile"
   ]
  },
  {
   "cell_type": "code",
   "execution_count": 9,
   "id": "ae68848c",
   "metadata": {},
   "outputs": [],
   "source": [
    "files = glob.glob('C:\\project\\Flowers-Dataset.zip')"
   ]
  },
  {
   "cell_type": "code",
   "execution_count": 10,
   "id": "5bb7045b",
   "metadata": {},
   "outputs": [
    {
     "data": {
      "text/plain": [
       "['C:\\\\project\\\\Flowers-Dataset.zip']"
      ]
     },
     "execution_count": 10,
     "metadata": {},
     "output_type": "execute_result"
    }
   ],
   "source": [
    "files"
   ]
  },
  {
   "cell_type": "code",
   "execution_count": 11,
   "id": "d308e8b5",
   "metadata": {},
   "outputs": [
    {
     "name": "stdout",
     "output_type": "stream",
     "text": [
      "Unzipping: C:\\project\\Flowers-Dataset.zip\n"
     ]
    }
   ],
   "source": [
    "for file in files:\n",
    "    print('Unzipping:',file)\n",
    "\n",
    "    with zipfile.ZipFile(file, 'r') as zip_ref:\n",
    "        zip_ref.extractall('data/raw')"
   ]
  },
  {
   "cell_type": "code",
   "execution_count": 12,
   "id": "bcc4903d",
   "metadata": {},
   "outputs": [
    {
     "data": {
      "text/plain": [
       "'C:\\\\project\\\\Flowers-Dataset.zip'"
      ]
     },
     "execution_count": 12,
     "metadata": {},
     "output_type": "execute_result"
    }
   ],
   "source": [
    "file"
   ]
  },
  {
   "cell_type": "code",
   "execution_count": 13,
   "id": "a8babbf1",
   "metadata": {},
   "outputs": [],
   "source": [
    "from tensorflow.keras.preprocessing.image import ImageDataGenerator"
   ]
  },
  {
   "cell_type": "code",
   "execution_count": 14,
   "id": "e0d1251b",
   "metadata": {},
   "outputs": [],
   "source": [
    "train_datagen= ImageDataGenerator(rescale=1./255,zoom_range = 0.2,horizontal_flip =True,vertical_flip =False)"
   ]
  },
  {
   "cell_type": "code",
   "execution_count": 15,
   "id": "d098060e",
   "metadata": {},
   "outputs": [],
   "source": [
    "test_datagen = ImageDataGenerator(rescale=1./255)"
   ]
  },
  {
   "cell_type": "code",
   "execution_count": 17,
   "id": "bb34fd64",
   "metadata": {},
   "outputs": [
    {
     "name": "stdout",
     "output_type": "stream",
     "text": [
      "Found 0 images belonging to 0 classes.\n"
     ]
    }
   ],
   "source": [
    "x_train = train = train_datagen.flow_from_directory(r'C:\\project\\data\\raw\\flowers\\daisy',target_size = (10,10),class_mode ='categorical',batch_size=10)"
   ]
  },
  {
   "cell_type": "code",
   "execution_count": 18,
   "id": "a84ad920",
   "metadata": {},
   "outputs": [
    {
     "data": {
      "text/plain": [
       "{}"
      ]
     },
     "execution_count": 18,
     "metadata": {},
     "output_type": "execute_result"
    }
   ],
   "source": [
    "x_train.class_indices"
   ]
  },
  {
   "cell_type": "code",
   "execution_count": 19,
   "id": "36e67d76",
   "metadata": {},
   "outputs": [],
   "source": [
    "from tensorflow.keras.models import Sequential"
   ]
  },
  {
   "cell_type": "code",
   "execution_count": 20,
   "id": "b9ec815c",
   "metadata": {},
   "outputs": [],
   "source": [
    "from tensorflow.keras.layers import Dense,Convolution2D,MaxPooling2D,Flatten"
   ]
  },
  {
   "cell_type": "code",
   "execution_count": 21,
   "id": "4aa79be7",
   "metadata": {},
   "outputs": [],
   "source": [
    "model= Sequential()"
   ]
  },
  {
   "cell_type": "code",
   "execution_count": 22,
   "id": "e61881b5",
   "metadata": {},
   "outputs": [],
   "source": [
    "model.add(Convolution2D(32,(3,3),input_shape=(64,64,3),activation = 'relu')) "
   ]
  },
  {
   "cell_type": "code",
   "execution_count": 23,
   "id": "f14e9c51",
   "metadata": {},
   "outputs": [],
   "source": [
    "model.add(MaxPooling2D(pool_size = (2,2)))"
   ]
  },
  {
   "cell_type": "code",
   "execution_count": 24,
   "id": "b54f0096",
   "metadata": {},
   "outputs": [],
   "source": [
    "model.add(Flatten())"
   ]
  },
  {
   "cell_type": "code",
   "execution_count": 25,
   "id": "66d63982",
   "metadata": {},
   "outputs": [
    {
     "name": "stdout",
     "output_type": "stream",
     "text": [
      "Model: \"sequential\"\n",
      "_________________________________________________________________\n",
      " Layer (type)                Output Shape              Param #   \n",
      "=================================================================\n",
      " conv2d (Conv2D)             (None, 62, 62, 32)        896       \n",
      "                                                                 \n",
      " max_pooling2d (MaxPooling2D  (None, 31, 31, 32)       0         \n",
      " )                                                               \n",
      "                                                                 \n",
      " flatten (Flatten)           (None, 30752)             0         \n",
      "                                                                 \n",
      "=================================================================\n",
      "Total params: 896\n",
      "Trainable params: 896\n",
      "Non-trainable params: 0\n",
      "_________________________________________________________________\n"
     ]
    }
   ],
   "source": [
    "model.summary()"
   ]
  },
  {
   "cell_type": "code",
   "execution_count": 26,
   "id": "f94375c1",
   "metadata": {},
   "outputs": [],
   "source": [
    "model.add(Dense(300, activation = 'relu'))\n",
    "model.add(Dense(150,activation ='relu'))"
   ]
  },
  {
   "cell_type": "code",
   "execution_count": 27,
   "id": "b6d51b5b",
   "metadata": {},
   "outputs": [],
   "source": [
    "model.add(Dense(4,activation='softmax'))"
   ]
  },
  {
   "cell_type": "code",
   "execution_count": 28,
   "id": "1fe6ff87",
   "metadata": {},
   "outputs": [],
   "source": [
    "model.compile(loss='categorical_crossentropy', optimizer='adam',metrics=['accuracy'])"
   ]
  },
  {
   "cell_type": "code",
   "execution_count": 29,
   "id": "01d4e3b6",
   "metadata": {},
   "outputs": [
    {
     "data": {
      "text/plain": [
       "0"
      ]
     },
     "execution_count": 29,
     "metadata": {},
     "output_type": "execute_result"
    }
   ],
   "source": [
    "len(x_train)"
   ]
  },
  {
   "cell_type": "code",
   "execution_count": 30,
   "id": "198dcb9d",
   "metadata": {},
   "outputs": [
    {
     "data": {
      "text/plain": [
       "51.583333333333336"
      ]
     },
     "execution_count": 30,
     "metadata": {},
     "output_type": "execute_result"
    }
   ],
   "source": [
    "1238/24"
   ]
  },
  {
   "cell_type": "code",
   "execution_count": 31,
   "id": "1606e1f6",
   "metadata": {},
   "outputs": [
    {
     "name": "stdout",
     "output_type": "stream",
     "text": [
      " Volume in drive C is Don't use me\n",
      " Volume Serial Number is 2E56-C876\n",
      "\n",
      " Directory of C:\\project\n",
      "\n",
      "02-11-2022  12:22    <DIR>          .\n",
      "02-11-2022  12:22    <DIR>          data\n",
      "02-11-2022  11:19       235,663,188 Flowers-Dataset.zip\n",
      "               1 File(s)    235,663,188 bytes\n",
      "               2 Dir(s)  106,184,495,104 bytes free\n"
     ]
    }
   ],
   "source": [
    "ls"
   ]
  },
  {
   "cell_type": "code",
   "execution_count": 32,
   "id": "015e71ae",
   "metadata": {},
   "outputs": [],
   "source": [
    "model.save('flower.h5')"
   ]
  },
  {
   "cell_type": "code",
   "execution_count": 33,
   "id": "06dc68b7",
   "metadata": {},
   "outputs": [
    {
     "name": "stdout",
     "output_type": "stream",
     "text": [
      " Volume in drive C is Don't use me\n",
      " Volume Serial Number is 2E56-C876\n",
      "\n",
      " Directory of C:\\project\n",
      "\n",
      "02-11-2022  12:30    <DIR>          .\n",
      "02-11-2022  12:22    <DIR>          data\n",
      "02-11-2022  12:30        37,110,944 flower.h5\n",
      "02-11-2022  11:19       235,663,188 Flowers-Dataset.zip\n",
      "               2 File(s)    272,774,132 bytes\n",
      "               2 Dir(s)  106,145,517,568 bytes free\n"
     ]
    }
   ],
   "source": [
    "ls"
   ]
  },
  {
   "cell_type": "code",
   "execution_count": 34,
   "id": "3cba20d9",
   "metadata": {},
   "outputs": [],
   "source": [
    "import numpy as np\n",
    "from tensorflow.keras.models import load_model\n",
    "from tensorflow.keras.preprocessing import image"
   ]
  },
  {
   "cell_type": "code",
   "execution_count": 35,
   "id": "046fca9c",
   "metadata": {},
   "outputs": [],
   "source": [
    "odel = load_model('flower.h5')"
   ]
  },
  {
   "cell_type": "code",
   "execution_count": 36,
   "id": "38ac42f4",
   "metadata": {},
   "outputs": [
    {
     "data": {
      "text/plain": [
       "'C:\\\\project'"
      ]
     },
     "execution_count": 36,
     "metadata": {},
     "output_type": "execute_result"
    }
   ],
   "source": [
    "pwd"
   ]
  },
  {
   "cell_type": "code",
   "execution_count": 37,
   "id": "51eda3ce",
   "metadata": {},
   "outputs": [],
   "source": [
    "img = image.load_img(r'C:\\project\\data\\raw\\flowers\\daisy\\2045022175_ad087f5f60_n.jpg')"
   ]
  },
  {
   "cell_type": "code",
   "execution_count": 38,
   "id": "06d4c1b0",
   "metadata": {},
   "outputs": [
    {
     "data": {
      "image/png": "[encoded data removed]",
      "text/plain": [
       "<PIL.JpegImagePlugin.JpegImageFile image mode=RGB size=320x240 at 0x2DB38BF08E0>"
      ]
     },
     "execution_count": 38,
     "metadata": {},
     "output_type": "execute_result"
    }
   ],
   "source": [
    "img"
   ]
  },
  {
   "cell_type": "code",
   "execution_count": 39,
   "id": "47447b50",
   "metadata": {},
   "outputs": [],
   "source": [
    "img = image.load_img(r'C:\\project\\data\\raw\\flowers\\daisy\\2045022175_ad087f5f60_n.jpg',target_size=(64,64))"
   ]
  },
  {
   "cell_type": "code",
   "execution_count": 40,
   "id": "4543e254",
   "metadata": {},
   "outputs": [
    {
     "data": {
      "image/png": "[encoded data removed]",
      "text/plain": [
       "<PIL.Image.Image image mode=RGB size=64x64 at 0x2DB38C10700>"
      ]
     },
     "execution_count": 40,
     "metadata": {},
     "output_type": "execute_result"
    }
   ],
   "source": [
    "img"
   ]
  },
  {
   "cell_type": "code",
   "execution_count": 41,
   "id": "4de9dac0",
   "metadata": {},
   "outputs": [],
   "source": [
    "x=image.img_to_array(img)"
   ]
  },
  {
   "cell_type": "code",
   "execution_count": 42,
   "id": "e8ca6c62",
   "metadata": {},
   "outputs": [
    {
     "data": {
      "text/plain": [
       "array([[[ 40.,  57.,  12.],\n",
       "        [ 42.,  59.,  14.],\n",
       "        [ 41.,  64.,  12.],\n",
       "        ...,\n",
       "        [ 62.,  74.,  64.],\n",
       "        [ 53.,  66.,  59.],\n",
       "        [ 44.,  50.,  46.]],\n",
       "\n",
       "       [[ 38.,  53.,  10.],\n",
       "        [ 42.,  57.,  14.],\n",
       "        [ 45.,  62.,  17.],\n",
       "        ...,\n",
       "        [ 69.,  82.,  75.],\n",
       "        [ 60.,  73.,  66.],\n",
       "        [ 47.,  60.,  53.]],\n",
       "\n",
       "       [[ 38.,  53.,  12.],\n",
       "        [ 41.,  58.,  16.],\n",
       "        [ 44.,  63.,  17.],\n",
       "        ...,\n",
       "        [ 73.,  88.,  81.],\n",
       "        [ 61.,  77.,  67.],\n",
       "        [ 51.,  64.,  57.]],\n",
       "\n",
       "       ...,\n",
       "\n",
       "       [[ 66.,  99.,  44.],\n",
       "        [ 68.,  99.,  55.],\n",
       "        [ 73., 103.,  69.],\n",
       "        ...,\n",
       "        [126., 136., 135.],\n",
       "        [123., 131., 133.],\n",
       "        [117., 125., 127.]],\n",
       "\n",
       "       [[ 62.,  95.,  38.],\n",
       "        [ 65.,  98.,  51.],\n",
       "        [ 73., 103.,  67.],\n",
       "        ...,\n",
       "        [126., 136., 135.],\n",
       "        [124., 132., 134.],\n",
       "        [118., 126., 129.]],\n",
       "\n",
       "       [[ 62.,  91.,  37.],\n",
       "        [ 60.,  97.,  46.],\n",
       "        [ 75., 101.,  64.],\n",
       "        ...,\n",
       "        [124., 135., 129.],\n",
       "        [123., 134., 130.],\n",
       "        [118., 128., 127.]]], dtype=float32)"
      ]
     },
     "execution_count": 42,
     "metadata": {},
     "output_type": "execute_result"
    }
   ],
   "source": [
    "x"
   ]
  },
  {
   "cell_type": "code",
   "execution_count": 43,
   "id": "1a4f24ea",
   "metadata": {},
   "outputs": [
    {
     "data": {
      "text/plain": [
       "(64, 64, 3)"
      ]
     },
     "execution_count": 43,
     "metadata": {},
     "output_type": "execute_result"
    }
   ],
   "source": [
    "x.shape"
   ]
  },
  {
   "cell_type": "code",
   "execution_count": 44,
   "id": "4b4a77b8",
   "metadata": {},
   "outputs": [],
   "source": [
    "x=np.expand_dims(x,axis=0)"
   ]
  },
  {
   "cell_type": "code",
   "execution_count": 45,
   "id": "6bb39908",
   "metadata": {},
   "outputs": [
    {
     "name": "stdout",
     "output_type": "stream",
     "text": [
      "1/1 [==============================] - 6s 6s/step\n"
     ]
    }
   ],
   "source": [
    "y=np.argmax(model.predict(x),axis=1)"
   ]
  },
  {
   "cell_type": "code",
   "execution_count": 47,
   "id": "67ec23ef",
   "metadata": {},
   "outputs": [
    {
     "data": {
      "text/plain": [
       "array([0], dtype=int64)"
      ]
     },
     "execution_count": 47,
     "metadata": {},
     "output_type": "execute_result"
    }
   ],
   "source": [
    "y"
   ]
  },
  {
   "cell_type": "code",
   "execution_count": 48,
   "id": "731623c9",
   "metadata": {},
   "outputs": [
    {
     "data": {
      "text/plain": [
       "{}"
      ]
     },
     "execution_count": 48,
     "metadata": {},
     "output_type": "execute_result"
    }
   ],
   "source": [
    "x_train.class_indices"
   ]
  },
  {
   "cell_type": "code",
   "execution_count": 49,
   "id": "15b46795",
   "metadata": {},
   "outputs": [],
   "source": [
    "{}\n",
    "index = ['daisy','dandelion','rose','sunflower','tulip']"
   ]
  },
  {
   "cell_type": "code",
   "execution_count": 50,
   "id": "4be76e6d",
   "metadata": {},
   "outputs": [
    {
     "data": {
      "text/plain": [
       "'daisy'"
      ]
     },
     "execution_count": 50,
     "metadata": {},
     "output_type": "execute_result"
    }
   ],
   "source": [
    "index[y[-1]]"
   ]
  },
  {
   "cell_type": "code",
   "execution_count": 51,
   "id": "1776b55b",
   "metadata": {},
   "outputs": [
    {
     "data": {
      "text/plain": [
       "'dandelion'"
      ]
     },
     "execution_count": 51,
     "metadata": {},
     "output_type": "execute_result"
    }
   ],
   "source": [
    "index[1]"
   ]
  },
  {
   "cell_type": "code",
   "execution_count": null,
   "id": "1496396a",
   "metadata": {},
   "outputs": [],
   "source": []
  }
 ],
 "metadata": {
  "kernelspec": {
   "display_name": "Python 3 (ipykernel)",
   "language": "python",
   "name": "python3"
  },
  "language_info": {
   "codemirror_mode": {
    "name": "ipython",
    "version": 3
   },
   "file_extension": ".py",
   "mimetype": "text/x-python",
   "name": "python",
   "nbconvert_exporter": "python",
   "pygments_lexer": "ipython3",
   "version": "3.9.12"
  }
 },
 "nbformat": 4,
 "nbformat_minor": 5
}
